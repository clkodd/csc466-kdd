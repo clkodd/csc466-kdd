{
 "cells": [
  {
   "cell_type": "code",
   "execution_count": null,
   "metadata": {},
   "outputs": [],
   "source": []
  },
  {
   "cell_type": "markdown",
   "metadata": {},
   "source": [
    "**CSC466 Final Project Report**\n"
   ]
  },
  {
   "cell_type": "markdown",
   "metadata": {},
   "source": [
    "**Facial Recognition Library Model**"
   ]
  },
  {
   "cell_type": "code",
   "execution_count": null,
   "metadata": {},
   "outputs": [],
   "source": []
  },
  {
   "cell_type": "code",
   "execution_count": null,
   "metadata": {},
   "outputs": [],
   "source": []
  },
  {
   "cell_type": "markdown",
   "metadata": {},
   "source": [
    "**DeepFace Library Model**\n",
    "\n",
    "This model was the one that performed the worst. Our theory is that it was not suited to the style of photo that was present in the dataset, which were frequently off-center, non-forward facing, or had multiple people in the frame. Additionally, for some photos the model couldn't even recognize that there was a face present in the image at all. The model we used was created in 2015 and its poor accuracy could be attributed to its age.\n",
    "\n",
    "For this model, we used the `pairs.csv` file, which is a list of pairs of photos for people with more than one photo in the dataset. We read in the data and removed any rows containing two different people. Then, we fed each pair to the model and asked it to verify whether the two photos were of the same person.  \n",
    "\n",
    "If it wrongly declared two photos as not of the same person, the person's name was added to the list of misidentified people. This would allow us to go back through the people later on to see if there were any trends within the misidentified people. \n",
    "\n",
    "\n",
    "**Results matrix:**\n",
    "\n",
    "`[2285, 3415]` [correct, incorrect]\n",
    "\n",
    "The file of people that were misidentified can be found in `deepFaceMisidentified.csv`. Some people who had more than 2 photos appeared in the `pairs.csv` file more than once, so they were checked more times. If they were misidentified more than once, they will appear in the .csv file several times."
   ]
  },
  {
   "cell_type": "code",
   "execution_count": null,
   "metadata": {},
   "outputs": [],
   "source": [
    "from deepface import DeepFace\n",
    "import cv2\n",
    "import matplotlib.pyplot as plt\n",
    "\n",
    "\n",
    "def verify(pairSet):\n",
    "    # Initialize a dictionary to keep track of model scores\n",
    "    model = \"VGG-Face\"      # The DeepFace library has a variety of models. We chose to use VGG-Face\n",
    "    model_score = [0, 0]\n",
    "    misclassified_faces = []\n",
    "\n",
    "    # Check each pair against each model\n",
    "    for pair in pairSet:\n",
    "        # Establish the folder and two images to look at\n",
    "        path = \"archive/lfw-deepfunneled/lfw-deepfunneled/\" + pair[0] + \"/\"\n",
    "        img1_path = path + pair[1] + \".jpg\"\n",
    "        img2_path = path + pair[2] + \".jpg\"\n",
    "        try:\n",
    "            res = DeepFace.verify(img1_path, img2_path, model_name = model)\n",
    "            if res['verified']:\n",
    "                model_score[0] += 1\n",
    "            else:\n",
    "                model_score[1] += 1\n",
    "                misclassified_faces.append(pair[0])\n",
    "        # Some faces cannot be identified as a face by the model\n",
    "        except Exception: \n",
    "            model_score[1] += 1\n",
    "            misclassified_faces.append(pair[0])\n",
    "\n",
    "    # Display the number of correctly and incorrectly classified faces, as well as who was misclassified\n",
    "    print(model_score)\n",
    "    print(misclassified_faces)\n",
    "\n",
    "\n",
    "def getPeople():\n",
    "    # Open and read the file\n",
    "    pairs = open(\"archive/pairs.csv\", \"r\")\n",
    "    pairs = pairs.read().splitlines()\n",
    "\n",
    "    # Extract the pairs and transform to file stubs\n",
    "    pairs = [pair.split(\",\")[:3] for pair in pairs][1:5701]\n",
    "    pairs = [[pair[0], pair[0] + \"_\" + pair[1].zfill(4), pair[0] + \"_\" + pair[2].zfill(4)] for pair in pairs]\n",
    "\n",
    "    return pairs\n",
    "\n",
    "\n",
    "verify(getPeople())"
   ]
  },
  {
   "cell_type": "markdown",
   "metadata": {},
   "source": [
    "**FaceNet Library Model**"
   ]
  },
  {
   "cell_type": "code",
   "execution_count": null,
   "metadata": {},
   "outputs": [],
   "source": []
  }
 ],
 "metadata": {
  "language_info": {
   "name": "python"
  }
 },
 "nbformat": 4,
 "nbformat_minor": 2
}
